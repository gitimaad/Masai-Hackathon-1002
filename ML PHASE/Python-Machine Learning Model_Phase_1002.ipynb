{
 "cells": [
  {
   "cell_type": "code",
   "execution_count": 1,
   "id": "f9c0cab1",
   "metadata": {
    "scrolled": true
   },
   "outputs": [],
   "source": [
    "# Import necessary libraries\n",
    "import pandas as pd\n",
    "from sklearn.model_selection import train_test_split, GridSearchCV\n",
    "from sklearn.ensemble import RandomForestClassifier\n",
    "from sklearn.pipeline import Pipeline\n",
    "from sklearn.compose import ColumnTransformer\n",
    "from sklearn.preprocessing import StandardScaler, OneHotEncoder\n",
    "from sklearn.impute import SimpleImputer\n",
    "from sklearn.metrics import f1_score, classification_report"
   ]
  },
  {
   "cell_type": "code",
   "execution_count": 2,
   "id": "e2892a10",
   "metadata": {},
   "outputs": [
    {
     "name": "stdout",
     "output_type": "stream",
     "text": [
      "Fitting 3 folds for each of 24 candidates, totalling 72 fits\n"
     ]
    },
    {
     "name": "stderr",
     "output_type": "stream",
     "text": [
      "C:\\Users\\ASUS\\anaconda3\\lib\\site-packages\\sklearn\\model_selection\\_search.py:1103: UserWarning: One or more of the test scores are non-finite: [nan nan nan nan nan nan nan nan nan nan nan nan nan nan nan nan nan nan\n",
      " nan nan nan nan nan nan]\n",
      "  warnings.warn(\n"
     ]
    },
    {
     "name": "stdout",
     "output_type": "stream",
     "text": [
      "              precision    recall  f1-score   support\n",
      "\n",
      "          no       0.98      0.81      0.89      7421\n",
      "         yes       0.25      0.81      0.38       579\n",
      "\n",
      "    accuracy                           0.81      8000\n",
      "   macro avg       0.62      0.81      0.64      8000\n",
      "weighted avg       0.93      0.81      0.85      8000\n",
      "\n",
      "Best model saved as best_model.pkl\n"
     ]
    }
   ],
   "source": [
    "# Feature engineering function\n",
    "def feature_engineering(df):\n",
    "    df['age_group'] = pd.cut(df['age'], bins=[0, 30, 50, 100], labels=['<30', '30-50', '>50'])\n",
    "    df['balance_bin'] = pd.cut(df['balance'], bins=[-float('inf'), 0, 1000, 5000, float('inf')], \n",
    "                               labels=['negative', 'low', 'medium', 'high'])\n",
    "    df['balance_duration_ratio'] = df['balance'] / (df['duration'] + 1)\n",
    "    df['age_balance_interaction'] = df['age'] * df['balance']\n",
    "    df['previous_contacted'] = (df['pdays'] != -1).astype(int)\n",
    "    df['engagement_rate'] = df['previous'] / (df['campaign'] + 1)\n",
    "    return df\n",
    "\n",
    "\n",
    "# Load the train and test datasets\n",
    "train_file_path = \"cleaned_file.csv\"  \n",
    "test_file_path = \"test.csv\"           \n",
    "train_data = pd.read_csv(train_file_path)\n",
    "test_data = pd.read_csv(test_file_path)\n",
    "\n",
    "# Apply feature engineering\n",
    "train_data = feature_engineering(train_data)\n",
    "test_data = feature_engineering(test_data)\n",
    "\n",
    "# Define target and features\n",
    "target = 'y'\n",
    "features = [col for col in train_data.columns if col != target]\n",
    "\n",
    "# Separate numeric and categorical features\n",
    "numeric_features = train_data[features].select_dtypes(include=['int64', 'float64']).columns\n",
    "categorical_features = train_data[features].select_dtypes(include=['object', 'category']).columns\n",
    "\n",
    "# Define preprocessing pipelines\n",
    "numeric_transformer = Pipeline(steps=[\n",
    "    ('imputer', SimpleImputer(strategy='median')),\n",
    "    ('scaler', StandardScaler())\n",
    "])\n",
    "\n",
    "categorical_transformer = Pipeline(steps=[\n",
    "    ('imputer', SimpleImputer(strategy='most_frequent')),\n",
    "    ('onehot', OneHotEncoder(handle_unknown='ignore'))\n",
    "])\n",
    "\n",
    "preprocessor = ColumnTransformer(\n",
    "    transformers=[\n",
    "        ('num', numeric_transformer, numeric_features),\n",
    "        ('cat', categorical_transformer, categorical_features)\n",
    "    ]\n",
    ")\n",
    "\n",
    "# Define the model with class weights\n",
    "model = RandomForestClassifier(random_state=42, n_jobs=-1, class_weight='balanced')\n",
    "\n",
    "# Combine preprocessing and model in a pipeline\n",
    "pipeline = Pipeline(steps=[\n",
    "    ('preprocessor', preprocessor),\n",
    "    ('classifier', model)\n",
    "])\n",
    "\n",
    "# Split the dataset\n",
    "X = train_data[features]\n",
    "y = train_data[target]\n",
    "X_train, X_val, y_train, y_val = train_test_split(X, y, test_size=0.2, random_state=42, stratify=y)\n",
    "\n",
    "# Define hyperparameter grid\n",
    "param_grid = {\n",
    "    'classifier__n_estimators': [50, 100],\n",
    "    'classifier__max_depth': [10, 20, None],\n",
    "    'classifier__min_samples_split': [2, 5],\n",
    "    'classifier__min_samples_leaf': [1, 2]\n",
    "}\n",
    "\n",
    "# Perform GridSearchCV\n",
    "grid_search = GridSearchCV(\n",
    "    pipeline,\n",
    "    param_grid,\n",
    "    cv=3,  # Reduced folds for faster runtime\n",
    "    scoring='f1',\n",
    "    n_jobs=-1,\n",
    "    verbose=1\n",
    ")\n",
    "\n",
    "grid_search.fit(X_train, y_train)\n",
    "\n",
    "# Evaluate the best model\n",
    "best_model = grid_search.best_estimator_\n",
    "y_val_pred = best_model.predict(X_val)\n",
    "\n",
    "# Calculate the F1 score and display the classification report\n",
    "f1 = f1_score(y_val, y_val_pred, pos_label='yes')\n",
    "print(classification_report(y_val, y_val_pred, target_names=['no', 'yes']))\n",
    "\n",
    "# Save the best model\n",
    "import joblib\n",
    "joblib.dump(best_model, 'best_model.pkl')\n",
    "print(\"Best model saved as best_model.pkl\")\n",
    "\n",
    "# Predict on the test dataset\n",
    "X_test = test_data[features]\n",
    "test_predictions = best_model.predict(X_test)\n",
    "test_data['y'] = test_predictions"
   ]
  },
  {
   "cell_type": "code",
   "execution_count": 3,
   "id": "9a75ee15",
   "metadata": {},
   "outputs": [
    {
     "name": "stdout",
     "output_type": "stream",
     "text": [
      "Predictions saved to 1002.csv\n"
     ]
    }
   ],
   "source": [
    "# Save predictions to a CSV file\n",
    "test_data.to_csv('1002.csv', index=False)\n",
    "print(\"Predictions saved to 1002.csv\")"
   ]
  }
 ],
 "metadata": {
  "kernelspec": {
   "display_name": "Python 3 (ipykernel)",
   "language": "python",
   "name": "python3"
  },
  "language_info": {
   "codemirror_mode": {
    "name": "ipython",
    "version": 3
   },
   "file_extension": ".py",
   "mimetype": "text/x-python",
   "name": "python",
   "nbconvert_exporter": "python",
   "pygments_lexer": "ipython3",
   "version": "3.9.13"
  }
 },
 "nbformat": 4,
 "nbformat_minor": 5
}
